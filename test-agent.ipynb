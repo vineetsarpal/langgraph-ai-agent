{
 "cells": [
  {
   "cell_type": "code",
   "execution_count": 4,
   "id": "a565e773",
   "metadata": {},
   "outputs": [],
   "source": [
    "from langgraph.pregel.remote import RemoteGraph\n",
    "from langchain_core.messages import convert_to_messages\n",
    "from langchain_core.messages import HumanMessage, SystemMessage"
   ]
  },
  {
   "cell_type": "code",
   "execution_count": null,
   "id": "96968c99",
   "metadata": {},
   "outputs": [],
   "source": [
    "from langgraph_sdk import get_client\n",
    "\n",
    "# Connect via SDK\n",
    "url_for_cli_deployment = \"http://localhost:8123\"\n",
    "client = get_client(url=url_for_cli_deployment)"
   ]
  },
  {
   "cell_type": "code",
   "execution_count": 2,
   "id": "1dcd95a5",
   "metadata": {},
   "outputs": [
    {
     "data": {
      "text/plain": [
       "{'thread_id': '25f8ee9e-9cdd-4894-82e2-a3be35c36063',\n",
       " 'created_at': '2025-07-09T01:40:22.206808+00:00',\n",
       " 'updated_at': '2025-07-09T01:40:22.206808+00:00',\n",
       " 'metadata': {},\n",
       " 'status': 'idle',\n",
       " 'config': {},\n",
       " 'values': None,\n",
       " 'interrupts': {},\n",
       " 'error': None}"
      ]
     },
     "execution_count": 2,
     "metadata": {},
     "output_type": "execute_result"
    }
   ],
   "source": [
    "# Create a thread\n",
    "thread = await client.threads.create()\n",
    "thread"
   ]
  },
  {
   "cell_type": "code",
   "execution_count": 3,
   "id": "f0256083",
   "metadata": {},
   "outputs": [
    {
     "name": "stdout",
     "output_type": "stream",
     "text": [
      "[]\n"
     ]
    }
   ],
   "source": [
    "# Check any existing runs on a thread\n",
    "thread = await client.threads.create()\n",
    "runs = await client.runs.list(thread[\"thread_id\"])\n",
    "print(runs)"
   ]
  },
  {
   "cell_type": "code",
   "execution_count": 6,
   "id": "40f60558",
   "metadata": {},
   "outputs": [],
   "source": [
    "# Ensure we've created some runs and saved them to my user_id\n",
    "user_input = \"What is 10 times that\"\n",
    "config = {\"configurable\": {\"user_id\": \"Test\"}}\n",
    "graph_name = \"agent\" \n",
    "run = await client.runs.create(thread[\"thread_id\"], graph_name, input={\"messages\": [HumanMessage(content=user_input)]}, config=config)"
   ]
  },
  {
   "cell_type": "code",
   "execution_count": 7,
   "id": "5acaccb5",
   "metadata": {},
   "outputs": [],
   "source": [
    "# Kick off a new thread and a new run\n",
    "thread = await client.threads.create()\n",
    "user_input = \"Give me a summary of what I asked.\"\n",
    "config = {\"configurable\": {\"user_id\": \"Test\"}}\n",
    "graph_name = \"agent\" \n",
    "run = await client.runs.create(thread[\"thread_id\"], graph_name, input={\"messages\": [HumanMessage(content=user_input)]}, config=config)"
   ]
  },
  {
   "cell_type": "code",
   "execution_count": 8,
   "id": "38f862d3",
   "metadata": {},
   "outputs": [
    {
     "name": "stdout",
     "output_type": "stream",
     "text": [
      "{'run_id': '1f05c663-3e4e-688d-852a-9b0ee6939a25', 'thread_id': '14f75953-8e26-42dd-8054-43c0ece56d1f', 'assistant_id': 'fe096781-5601-53d2-b2f6-0d3403f7e9ca', 'created_at': '2025-07-09T01:44:07.554691+00:00', 'updated_at': '2025-07-09T01:44:09.430001+00:00', 'metadata': {'assistant_id': 'fe096781-5601-53d2-b2f6-0d3403f7e9ca'}, 'status': 'success', 'kwargs': {'input': {'messages': [{'id': None, 'name': None, 'type': 'human', 'content': 'Give me a summary of what I asked.', 'example': False, 'additional_kwargs': {}, 'response_metadata': {}}]}, 'config': {'metadata': {'created_by': 'system', 'assistant_id': 'fe096781-5601-53d2-b2f6-0d3403f7e9ca'}, 'configurable': {'run_id': '1f05c663-3e4e-688d-852a-9b0ee6939a25', 'user_id': 'Test', 'graph_id': 'agent', 'thread_id': '14f75953-8e26-42dd-8054-43c0ece56d1f', 'user-agent': 'langgraph-sdk-py/0.1.72', 'assistant_id': 'fe096781-5601-53d2-b2f6-0d3403f7e9ca', 'x-request-id': '4c67dbee-25ba-435c-9d19-efbb146a561f', '__after_seconds__': 0, 'langgraph_auth_user': None, 'langgraph_request_id': '4c67dbee-25ba-435c-9d19-efbb146a561f', 'langgraph_auth_user_id': '', '__request_start_time_ms__': 1752025447554, 'langgraph_auth_permissions': []}}, 'command': None, 'webhook': None, 'resumable': False, 'subgraphs': False, 'temporary': False, 'stream_mode': ['values'], 'feedback_keys': None, 'interrupt_after': None, 'interrupt_before': None, 'checkpoint_during': True}, 'multitask_strategy': 'reject'}\n"
     ]
    }
   ],
   "source": [
    "# Check the run status\n",
    "print(await client.runs.get(thread[\"thread_id\"], run[\"run_id\"]))"
   ]
  },
  {
   "cell_type": "code",
   "execution_count": null,
   "id": "2424670e",
   "metadata": {},
   "outputs": [],
   "source": [
    "user_input = \"What are the arithemetic operations I asked you about\"\n",
    "async for chunk in client.runs.stream(thread[\"thread_id\"], \n",
    "                                      graph_name, \n",
    "                                      input={\"messages\": [HumanMessage(content=user_input)]},\n",
    "                                      config=config,\n",
    "                                      stream_mode=\"messages-tuple\"):\n",
    "\n",
    "    if chunk.event == \"messages\":\n",
    "        print(\"\".join(data_item['content'] for data_item in chunk.data if 'content' in data_item), end=\"\", flush=True)"
   ]
  }
 ],
 "metadata": {
  "kernelspec": {
   "display_name": ".venv",
   "language": "python",
   "name": "python3"
  },
  "language_info": {
   "codemirror_mode": {
    "name": "ipython",
    "version": 3
   },
   "file_extension": ".py",
   "mimetype": "text/x-python",
   "name": "python",
   "nbconvert_exporter": "python",
   "pygments_lexer": "ipython3",
   "version": "3.13.2"
  }
 },
 "nbformat": 4,
 "nbformat_minor": 5
}
